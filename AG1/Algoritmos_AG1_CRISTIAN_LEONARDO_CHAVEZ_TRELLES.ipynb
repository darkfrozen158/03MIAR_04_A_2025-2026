{
  "cells": [
    {
      "cell_type": "markdown",
      "metadata": {
        "id": "view-in-github",
        "colab_type": "text"
      },
      "source": [
        "<a href=\"https://colab.research.google.com/github/darkfrozen158/03MIAR_04_A_2025-2026/blob/main/AG1/Algoritmos_AG1_CRISTIAN_LEONARDO_CHAVEZ_TRELLES.ipynb\" target=\"_parent\"><img src=\"https://colab.research.google.com/assets/colab-badge.svg\" alt=\"Open In Colab\"/></a>"
      ]
    },
    {
      "cell_type": "markdown",
      "metadata": {
        "id": "T3Y92LsP8lYC"
      },
      "source": [
        "***Algoritmos - Actividad Guiada 1***"
      ]
    },
    {
      "cell_type": "markdown",
      "metadata": {
        "id": "wB6IJVXE8lYD"
      },
      "source": [
        "***Nombre: CRISTIAN LEONARDO CHAVEZ TRELLES***  \n",
        "\n",
        "***Github: https://github.com/darkfrozen158/03MIAR_04_A_2025-2026***"
      ]
    },
    {
      "cell_type": "markdown",
      "metadata": {
        "id": "aojyN24D8lYE"
      },
      "source": [
        "**TECNICA DIVIVE Y VENCERAS** :"
      ]
    },
    {
      "cell_type": "markdown",
      "metadata": {
        "id": "FR5yxpkP8lYE"
      },
      "source": [
        "*Torres de Hanoi con Divide y vencerás*"
      ]
    },
    {
      "cell_type": "markdown",
      "metadata": {
        "id": "jRd4FbHd8lYE"
      },
      "source": [
        "<img src='https://cdn.kastatic.org/ka-perseus-images/5b5fb2670c9a185b2666637461e40c805fcc9ea5.png'>"
      ]
    },
    {
      "cell_type": "code",
      "execution_count": null,
      "metadata": {
        "colab": {
          "base_uri": "https://localhost:8080/"
        },
        "id": "i32G0CUQvauE",
        "outputId": "c3398cec-661d-46a5-b9db-0a0ad168f64a"
      },
      "outputs": [
        {
          "name": "stdout",
          "output_type": "stream",
          "text": [
            "Lleva la ficha  1  hasta  3\n",
            "Lleva la ficha  1  hasta  2\n",
            "Lleva la ficha  3  hasta  2\n",
            "Lleva la ficha  1  hasta  3\n",
            "Lleva la ficha  2  hasta  1\n",
            "Lleva la ficha  2  hasta  3\n",
            "Lleva la ficha  1  hasta  3\n"
          ]
        }
      ],
      "source": [
        "def Torres_Hanoi(N, desde, hasta):\n",
        "  if N ==1 :\n",
        "    print(\"Lleva la ficha \" ,desde , \" hasta \", hasta )\n",
        "\n",
        "  else:\n",
        "    #Torres_Hanoi(N-1, desde, 6-desde-hasta )\n",
        "    Torres_Hanoi(N-1, desde, 6-desde-hasta )\n",
        "    print(\"Lleva la ficha \" ,desde , \" hasta \", hasta )\n",
        "    #Torres_Hanoi(N-1,6-desde-hasta, hasta )\n",
        "    Torres_Hanoi(N-1, 6-desde-hasta  , hasta )\n",
        "\n",
        "\n",
        "Torres_Hanoi(3, 1 , 3)"
      ]
    },
    {
      "cell_type": "code",
      "execution_count": null,
      "metadata": {
        "colab": {
          "base_uri": "https://localhost:8080/"
        },
        "id": "74qZZAekiNYR",
        "outputId": "acc17268-7f87-4de4-ae5a-4fc6ce09d385"
      },
      "outputs": [
        {
          "data": {
            "text/plain": [
              "8"
            ]
          },
          "execution_count": 11,
          "metadata": {},
          "output_type": "execute_result"
        }
      ],
      "source": [
        "#Sucesión_de_Fibonacci\n",
        "#https://es.wikipedia.org/wiki/Sucesi%C3%B3n_de_Fibonacci\n",
        "#Calculo del termino n-simo de la suscesión de Fibonacci\n",
        "def Fibonacci(N:int):\n",
        "  if N < 2:\n",
        "    return 1\n",
        "  else:\n",
        "    return Fibonacci(N-1)+Fibonacci(N-2)\n",
        "\n",
        "Fibonacci(5)"
      ]
    },
    {
      "cell_type": "markdown",
      "metadata": {
        "id": "zbJPQAp28lYF"
      },
      "source": [
        "**EJERCICIO ELABORADO POR ALUMNO - TECNICA DIVIVE Y VENCERAS**"
      ]
    },
    {
      "cell_type": "code",
      "execution_count": null,
      "metadata": {
        "id": "yDrhOgab8lYF"
      },
      "outputs": [],
      "source": [
        "#De una lista de codigos de pais, ubicar en que indice se encuentra el codigo correspondiente:\n",
        "# CODIGO DEL PAIS PERU = 10\n",
        "# CODIGO DEL PAIS ESPAÑA = 20\n",
        "# CODIGO DEL PAIS FRANCIA = 30\n",
        "# CODIGO DEL PAIS ESTADOS UNIDOS = 40\n",
        "# CODIGO DEL PAIS MEXICO = 50\n",
        "def busqueda_binaria_codigo_paises(lista, objetivo):\n",
        "    izquierda = 0\n",
        "    derecha = len(lista) - 1\n",
        "    while izquierda <= derecha:\n",
        "        punto_medio = (izquierda + derecha) // 2 # // sirve para dividir dos números y devolver el resultado como un entero redondeado hacia abajo (el piso matemático),\n",
        "        if lista[punto_medio] == objetivo: # buscamos el objetivo por el punto_medio\n",
        "            return punto_medio\n",
        "        elif lista[punto_medio] < objetivo: # buscamos el objetivo por el lado izquierdo\n",
        "            izquierda = punto_medio + 1\n",
        "        else:\n",
        "            derecha = punto_medio - 1 # buscamos el objetivo por el lado derecho\n",
        "    return \"No Encontrado\""
      ]
    },
    {
      "cell_type": "code",
      "execution_count": null,
      "metadata": {
        "id": "Pu57rfK38lYF",
        "outputId": "6160eb14-53af-4511-a09d-484db78c4099"
      },
      "outputs": [
        {
          "name": "stdout",
          "output_type": "stream",
          "text": [
            "EL CODIGO DEL PAIS MEXICO FUE ENCONTRADO EN EL INDICE:  4\n"
          ]
        }
      ],
      "source": [
        "codigos_paises = [10,20,30,40,50]\n",
        "print(\"EL CODIGO DEL PAIS MEXICO FUE ENCONTRADO EN EL INDICE: \", busqueda_binaria_codigo_paises(codigos_paises, 50))"
      ]
    },
    {
      "cell_type": "markdown",
      "metadata": {
        "id": "6grul6x38lYF"
      },
      "source": [
        "**TECNICA VORAZ**:"
      ]
    },
    {
      "cell_type": "markdown",
      "metadata": {
        "id": "lAjUAHiA8lYF"
      },
      "source": [
        "*Devolución de cambio por técnica voraz*"
      ]
    },
    {
      "cell_type": "markdown",
      "metadata": {
        "id": "Iyeolzsz8lYG"
      },
      "source": [
        "<img src='https://sza.pe/wp-content/uploads/2024/05/Tribunal-Fiscal-precisa-el-tratamiento-1024x555.jpg'>"
      ]
    },
    {
      "cell_type": "code",
      "execution_count": null,
      "metadata": {
        "colab": {
          "base_uri": "https://localhost:8080/"
        },
        "id": "uJtftBLU4-ap",
        "outputId": "b52f7a2c-771b-4c2e-81ab-c4c3ea01318d"
      },
      "outputs": [
        {
          "data": {
            "text/plain": [
              "[0, 1, 1, 0]"
            ]
          },
          "execution_count": 14,
          "metadata": {},
          "output_type": "execute_result"
        }
      ],
      "source": [
        "def cambio_monedas(N, SM):\n",
        "  SOLUCION = [0]*len(SM)   #SOLUCION = [0,0,0,0,..]\n",
        "  ValorAcumulado = 0\n",
        "\n",
        "  for i,valor in enumerate(SM):\n",
        "    monedas =  (N-ValorAcumulado)//valor\n",
        "    SOLUCION[i] = monedas\n",
        "    ValorAcumulado = ValorAcumulado + monedas*valor\n",
        "\n",
        "    if ValorAcumulado == N:\n",
        "      return SOLUCION\n",
        "\n",
        "\n",
        "cambio_monedas(15,[25,10,5,1])"
      ]
    },
    {
      "cell_type": "markdown",
      "metadata": {
        "id": "s-UHENCR8lYG"
      },
      "source": [
        "**EJERCICIO ELABORADO POR ALUMNO - TECNICA VORAZ:**"
      ]
    },
    {
      "cell_type": "code",
      "execution_count": null,
      "metadata": {
        "id": "8MxHnZPA8lYG"
      },
      "outputs": [],
      "source": [
        "def mochila_viaje(pesos, valores, capacidad):\n",
        "     # obtenemos los items segun su peso y valor\n",
        "    items = sorted(zip(pesos, valores), key=lambda x: x[1]/x[0], reverse=True)\n",
        "     #inicializamos el valor_total en 0.0\n",
        "    valor_total = 0.0\n",
        "    #iteramos por peso y valor por los items\n",
        "    #Si el item cabe completo: Añade su valor total y reduce la capacidad disponible.\n",
        "    #Si no cabe completo: Toma una fracción del item (la máxima posible) y termina (pues no hay más capacidad).\n",
        "    #Si no cabe completo, toma la fracción que cabe:\n",
        "    #Calcula (capacidad / peso) * valor\n",
        "    #La añade al valor_total\n",
        "    #Sale del bucle (break) porque la mochila ya está llena.\n",
        "    for peso, valor in items:\n",
        "        if capacidad >= peso:\n",
        "            valor_total = valor_total + valor\n",
        "            capacidad = capacidad - peso\n",
        "        else:\n",
        "            valor_total = valor_total + (capacidad / peso) * valor\n",
        "            break\n",
        "    return valor_total"
      ]
    },
    {
      "cell_type": "code",
      "execution_count": null,
      "metadata": {
        "id": "IDvvIkLW8lYG"
      },
      "outputs": [],
      "source": [
        "pesos = [10, 20, 30]\n",
        "valores = [60, 100, 120]\n",
        "print(mochila_viaje(pesos, valores, 50))  # 240.0"
      ]
    },
    {
      "cell_type": "code",
      "execution_count": null,
      "metadata": {
        "id": "nOEpayXj8lYG"
      },
      "outputs": [],
      "source": [
        "pesos = [10, 20, 30]\n",
        "valores = [60, 100, 120]\n",
        "print(mochila_viaje(pesos, valores, 50))  # 240.0"
      ]
    },
    {
      "cell_type": "markdown",
      "metadata": {
        "id": "uNPVWe9o8lYG"
      },
      "source": [
        "***EXPLICACION DE LOS RESULTADOS:***\n",
        "\n",
        "***1.Toma el primero (10kg, 60):***\n",
        "\n",
        "Capacidad restante: 50 - 10 = 40\n",
        "\n",
        "Valor total: 60\n",
        "\n",
        "***2.Toma el segundo (20kg, 100):***\n",
        "\n",
        "Capacidad restante: 40 - 20 = 20\n",
        "\n",
        "Valor total: 60 + 100 = 160\n",
        "\n",
        "***3.Tercero (30kg, 120):***\n",
        "\n",
        "Solo caben 20kg de los 30kg\n",
        "\n",
        "Toma (20/30) * 120 = (2/3)*120 = 80\n",
        "\n",
        "***Valor total: 160 + 80 = 240.0***"
      ]
    },
    {
      "cell_type": "markdown",
      "metadata": {
        "id": "-nrFjTXO8lYG"
      },
      "source": [
        "***TECNICA VUELTA ATRAS (BACKTRACKING):***"
      ]
    },
    {
      "cell_type": "markdown",
      "metadata": {
        "id": "g8M9GTvy_Fa3"
      },
      "source": [
        "## N-Reinas por técnica de vueta atrás\n"
      ]
    },
    {
      "cell_type": "markdown",
      "metadata": {
        "id": "B3vXJzJi8lYG"
      },
      "source": [
        "<img src='https://upload.wikimedia.org/wikipedia/commons/d/d6/Ocho_reinas_reina_atacarr.JPG' >"
      ]
    },
    {
      "cell_type": "code",
      "execution_count": null,
      "metadata": {
        "id": "FqOPyCmv_K65",
        "outputId": "525079b6-3514-4fca-82b8-2210269f98c9"
      },
      "outputs": [
        {
          "name": "stdout",
          "output_type": "stream",
          "text": [
            "[1, 5, 8, 6, 3, 7, 2, 4]\n",
            "\n",
            "[1, 6, 8, 3, 7, 4, 2, 5]\n",
            "\n",
            "[1, 7, 4, 6, 8, 2, 5, 3]\n",
            "\n",
            "[1, 7, 5, 8, 2, 4, 6, 3]\n",
            "\n",
            "[2, 4, 6, 8, 3, 1, 7, 5]\n",
            "\n",
            "[2, 5, 7, 1, 3, 8, 6, 4]\n",
            "\n",
            "[2, 5, 7, 4, 1, 8, 6, 3]\n",
            "\n",
            "[2, 6, 1, 7, 4, 8, 3, 5]\n",
            "\n",
            "[2, 6, 8, 3, 1, 4, 7, 5]\n",
            "\n",
            "[2, 7, 3, 6, 8, 5, 1, 4]\n",
            "\n",
            "[2, 7, 5, 8, 1, 4, 6, 3]\n",
            "\n",
            "[2, 8, 6, 1, 3, 5, 7, 4]\n",
            "\n",
            "[3, 1, 7, 5, 8, 2, 4, 6]\n",
            "\n",
            "[3, 5, 2, 8, 1, 7, 4, 6]\n",
            "\n",
            "[3, 5, 2, 8, 6, 4, 7, 1]\n",
            "\n",
            "[3, 5, 7, 1, 4, 2, 8, 6]\n",
            "\n",
            "[3, 5, 8, 4, 1, 7, 2, 6]\n",
            "\n",
            "[3, 6, 2, 5, 8, 1, 7, 4]\n",
            "\n",
            "[3, 6, 2, 7, 1, 4, 8, 5]\n",
            "\n",
            "[3, 6, 2, 7, 5, 1, 8, 4]\n",
            "\n",
            "[3, 6, 4, 1, 8, 5, 7, 2]\n",
            "\n",
            "[3, 6, 4, 2, 8, 5, 7, 1]\n",
            "\n",
            "[3, 6, 8, 1, 4, 7, 5, 2]\n",
            "\n",
            "[3, 6, 8, 1, 5, 7, 2, 4]\n",
            "\n",
            "[3, 6, 8, 2, 4, 1, 7, 5]\n",
            "\n",
            "[3, 7, 2, 8, 5, 1, 4, 6]\n",
            "\n",
            "[3, 7, 2, 8, 6, 4, 1, 5]\n",
            "\n",
            "[3, 8, 4, 7, 1, 6, 2, 5]\n",
            "\n",
            "[4, 1, 5, 8, 2, 7, 3, 6]\n",
            "\n",
            "[4, 1, 5, 8, 6, 3, 7, 2]\n",
            "\n",
            "[4, 2, 5, 8, 6, 1, 3, 7]\n",
            "\n",
            "[4, 2, 7, 3, 6, 8, 1, 5]\n",
            "\n",
            "[4, 2, 7, 3, 6, 8, 5, 1]\n",
            "\n",
            "[4, 2, 7, 5, 1, 8, 6, 3]\n",
            "\n",
            "[4, 2, 8, 5, 7, 1, 3, 6]\n",
            "\n",
            "[4, 2, 8, 6, 1, 3, 5, 7]\n",
            "\n",
            "[4, 6, 1, 5, 2, 8, 3, 7]\n",
            "\n",
            "[4, 6, 8, 2, 7, 1, 3, 5]\n",
            "\n",
            "[4, 6, 8, 3, 1, 7, 5, 2]\n",
            "\n",
            "[4, 7, 1, 8, 5, 2, 6, 3]\n",
            "\n",
            "[4, 7, 3, 8, 2, 5, 1, 6]\n",
            "\n",
            "[4, 7, 5, 2, 6, 1, 3, 8]\n",
            "\n",
            "[4, 7, 5, 3, 1, 6, 8, 2]\n",
            "\n",
            "[4, 8, 1, 3, 6, 2, 7, 5]\n",
            "\n",
            "[4, 8, 1, 5, 7, 2, 6, 3]\n",
            "\n",
            "[4, 8, 5, 3, 1, 7, 2, 6]\n",
            "\n",
            "[5, 1, 4, 6, 8, 2, 7, 3]\n",
            "\n",
            "[5, 1, 8, 4, 2, 7, 3, 6]\n",
            "\n",
            "[5, 1, 8, 6, 3, 7, 2, 4]\n",
            "\n",
            "[5, 2, 4, 6, 8, 3, 1, 7]\n",
            "\n",
            "[5, 2, 4, 7, 3, 8, 6, 1]\n",
            "\n",
            "[5, 2, 6, 1, 7, 4, 8, 3]\n",
            "\n",
            "[5, 2, 8, 1, 4, 7, 3, 6]\n",
            "\n",
            "[5, 3, 1, 6, 8, 2, 4, 7]\n",
            "\n",
            "[5, 3, 1, 7, 2, 8, 6, 4]\n",
            "\n",
            "[5, 3, 8, 4, 7, 1, 6, 2]\n",
            "\n",
            "[5, 7, 1, 3, 8, 6, 4, 2]\n",
            "\n",
            "[5, 7, 1, 4, 2, 8, 6, 3]\n",
            "\n",
            "[5, 7, 2, 4, 8, 1, 3, 6]\n",
            "\n",
            "[5, 7, 2, 6, 3, 1, 4, 8]\n",
            "\n",
            "[5, 7, 2, 6, 3, 1, 8, 4]\n",
            "\n",
            "[5, 7, 4, 1, 3, 8, 6, 2]\n",
            "\n",
            "[5, 8, 4, 1, 3, 6, 2, 7]\n",
            "\n",
            "[5, 8, 4, 1, 7, 2, 6, 3]\n",
            "\n",
            "[6, 1, 5, 2, 8, 3, 7, 4]\n",
            "\n",
            "[6, 2, 7, 1, 3, 5, 8, 4]\n",
            "\n",
            "[6, 2, 7, 1, 4, 8, 5, 3]\n",
            "\n",
            "[6, 3, 1, 7, 5, 8, 2, 4]\n",
            "\n",
            "[6, 3, 1, 8, 4, 2, 7, 5]\n",
            "\n",
            "[6, 3, 1, 8, 5, 2, 4, 7]\n",
            "\n",
            "[6, 3, 5, 7, 1, 4, 2, 8]\n",
            "\n",
            "[6, 3, 5, 8, 1, 4, 2, 7]\n",
            "\n",
            "[6, 3, 7, 2, 4, 8, 1, 5]\n",
            "\n",
            "[6, 3, 7, 2, 8, 5, 1, 4]\n",
            "\n",
            "[6, 3, 7, 4, 1, 8, 2, 5]\n",
            "\n",
            "[6, 4, 1, 5, 8, 2, 7, 3]\n",
            "\n",
            "[6, 4, 2, 8, 5, 7, 1, 3]\n",
            "\n",
            "[6, 4, 7, 1, 3, 5, 2, 8]\n",
            "\n",
            "[6, 4, 7, 1, 8, 2, 5, 3]\n",
            "\n",
            "[6, 8, 2, 4, 1, 7, 5, 3]\n",
            "\n",
            "[7, 1, 3, 8, 6, 4, 2, 5]\n",
            "\n",
            "[7, 2, 4, 1, 8, 5, 3, 6]\n",
            "\n",
            "[7, 2, 6, 3, 1, 4, 8, 5]\n",
            "\n",
            "[7, 3, 1, 6, 8, 5, 2, 4]\n",
            "\n",
            "[7, 3, 8, 2, 5, 1, 6, 4]\n",
            "\n",
            "[7, 4, 2, 5, 8, 1, 3, 6]\n",
            "\n",
            "[7, 4, 2, 8, 6, 1, 3, 5]\n",
            "\n",
            "[7, 5, 3, 1, 6, 8, 2, 4]\n",
            "\n",
            "[8, 2, 4, 1, 7, 5, 3, 6]\n",
            "\n",
            "[8, 2, 5, 3, 1, 7, 4, 6]\n",
            "\n",
            "[8, 3, 1, 6, 2, 5, 7, 4]\n",
            "\n",
            "[8, 4, 1, 3, 6, 2, 7, 5]\n",
            "\n"
          ]
        }
      ],
      "source": [
        "def escribe(S):\n",
        "  n = len(S)\n",
        "  for x in range(n):\n",
        "    print(\"\")\n",
        "    for i in range(n):\n",
        "      if S[i] == x+1:\n",
        "        print(\" X \" , end=\"\")\n",
        "      else:\n",
        "        print(\" - \", end=\"\")\n",
        "\n",
        "\n",
        "def es_prometedora(SOLUCION,etapa):\n",
        "  #print(SOLUCION)\n",
        "  #Si la solución tiene dos valores iguales no es valida => Dos reinas en la misma fila\n",
        "  for i in range(etapa+1):\n",
        "    #print(\"El valor \" + str(SOLUCION[i]) + \" está \" +  str(SOLUCION.count(SOLUCION[i])) + \" veces\")\n",
        "    if SOLUCION.count(SOLUCION[i]) > 1:\n",
        "      return False\n",
        "\n",
        "    #Verifica las diagonales\n",
        "    for j in range(i+1, etapa +1 ):\n",
        "      #print(\"Comprobando diagonal de \" + str(i) + \" y \" + str(j))\n",
        "      if abs(i-j) == abs(SOLUCION[i]-SOLUCION[j]) : return False\n",
        "  return True\n",
        "\n",
        "\n",
        "\n",
        "def reinas(N, solucion=[], etapa=0):\n",
        "  if len(solucion) == 0:\n",
        "      solucion=[0 for i in range(N)]\n",
        "\n",
        "  for i in range(1, N+1):\n",
        "    solucion[etapa] = i\n",
        "\n",
        "    if es_prometedora(solucion, etapa):\n",
        "      if etapa == N-1:\n",
        "        print(solucion)\n",
        "        #escribe(solucion)\n",
        "        print()\n",
        "      else:\n",
        "        reinas(N, solucion, etapa+1)\n",
        "    else:\n",
        "      None\n",
        "\n",
        "    solucion[etapa] = 0\n",
        "\n",
        "reinas(8)"
      ]
    },
    {
      "cell_type": "markdown",
      "metadata": {
        "id": "DFqaWRkw8lYH"
      },
      "source": [
        "***EJERCICIO ELABORADO POR ALUMNO - TECNICA BACKTRACKING:***"
      ]
    },
    {
      "cell_type": "code",
      "execution_count": null,
      "metadata": {
        "id": "tIbDxb0G8lYH"
      },
      "outputs": [],
      "source": [
        "#Definimos una función para buscar el valor en letras de cada digito.\n",
        "def codigo_letras(digitos):\n",
        "    #mientras sean digitos que tengan codigos\n",
        "    while not digitos:\n",
        "        return \"digito no encontrado\"\n",
        "\n",
        "    mapeo = {\n",
        "        \"2\": \"abc\", \"3\": \"def\", \"4\": \"ghi\",\n",
        "        \"5\": \"jkl\", \"6\": \"mno\", \"7\": \"pqrs\",\n",
        "        \"8\": \"tuv\", \"9\": \"wxyz\"\n",
        "    }\n",
        "\n",
        "    resultado = []\n",
        "\n",
        "    camino = []\n",
        "\n",
        "    #definimos la función backtrack para buscar los indices de cada digito e insertar el las letras en la lista resultado\n",
        "    def backtrack(indice, camino):\n",
        "        if indice == len(digitos):\n",
        "            resultado.append(\"\".join(camino))\n",
        "            return\n",
        "        for letra in mapeo[digitos[indice]]:\n",
        "            camino.append(letra)\n",
        "            backtrack(indice + 1, camino)\n",
        "            camino.pop()\n",
        "\n",
        "    backtrack(0,camino)\n",
        "    return resultado"
      ]
    },
    {
      "cell_type": "code",
      "execution_count": null,
      "metadata": {
        "id": "8FwCj9M98lYH",
        "outputId": "69cdeb3b-b4ef-48b1-f7e3-2406c046b185"
      },
      "outputs": [
        {
          "name": "stdout",
          "output_type": "stream",
          "text": [
            "Combinaciones con los digitos 2 y 6 son: ['am', 'an', 'ao', 'bm', 'bn', 'bo', 'cm', 'cn', 'co']\n",
            "Combinaciones con los digitos 3 y 5 son: ['dj', 'dk', 'dl', 'ej', 'ek', 'el', 'fj', 'fk', 'fl']\n",
            "Combinaciones con los digitos 9 y 2 son: ['wa', 'wb', 'wc', 'xa', 'xb', 'xc', 'ya', 'yb', 'yc', 'za', 'zb', 'zc']\n"
          ]
        }
      ],
      "source": [
        "# ejecutamos unas pruebas:\n",
        "print(\"Combinaciones con los digitos 2 y 6 son:\", codigo_letras(\"26\"))\n",
        "print(\"Combinaciones con los digitos 3 y 5 son:\", codigo_letras(\"35\"))\n",
        "print(\"Combinaciones con los digitos 9 y 2 son:\", codigo_letras(\"92\"))"
      ]
    },
    {
      "cell_type": "markdown",
      "metadata": {
        "id": "EwXpd6YZ8lYH"
      },
      "source": [
        "***TECNICA PROGRAMACIÓN DINAMICA***"
      ]
    },
    {
      "cell_type": "markdown",
      "metadata": {
        "id": "p1VZhNzjUfiy"
      },
      "source": [
        "## Viaje por el rio. Programación dinámica"
      ]
    },
    {
      "cell_type": "markdown",
      "metadata": {
        "id": "C_ceCUUK8lYH"
      },
      "source": [
        "<img src='https://andeangreattreks.com/wp-content/uploads/The-Best-Peru-Amazon-River-Cruises-Amazon-River-Cruise-Destinations.jpg'>"
      ]
    },
    {
      "cell_type": "code",
      "execution_count": null,
      "metadata": {
        "colab": {
          "base_uri": "https://localhost:8080/",
          "height": 351
        },
        "id": "qoqU1XciUdRn",
        "outputId": "541c88e8-e686-4c32-c7e6-812759702496"
      },
      "outputs": [
        {
          "name": "stdout",
          "output_type": "stream",
          "text": [
            "PRECIOS\n",
            "[0, 5, 4, 3, 8, 8, 11]\n",
            "[9999, 0, 999, 2, 3, 8, 7]\n",
            "[9999, 9999, 0, 1, 6, 4, 7]\n",
            "[9999, 9999, 9999, 0, 5, 6, 9]\n",
            "[9999, 9999, 9999, 9999, 0, 999, 4]\n",
            "[9999, 9999, 9999, 9999, 9999, 0, 3]\n",
            "[9999, 9999, 9999, 9999, 9999, 9999, 9999]\n",
            "\n",
            "RUTA\n",
            "[0, 0, 0, 0, 1, 2, 5]\n",
            "['', 1, 1, 1, 1, 3, 4]\n",
            "['', '', 2, 2, 3, 2, 5]\n",
            "['', '', '', 3, 3, 3, 3]\n",
            "['', '', '', '', 4, 4, 4]\n",
            "['', '', '', '', '', 5, 5]\n",
            "['', '', '', '', '', '', '']\n",
            "\n",
            "La ruta es:\n"
          ]
        },
        {
          "data": {
            "text/plain": [
              "',0,2,5'"
            ]
          },
          "execution_count": 18,
          "metadata": {},
          "output_type": "execute_result"
        }
      ],
      "source": [
        "TARIFAS = [\n",
        "[0,5,4,3,999,999,999],\n",
        "[999,0,999,2,3,999,11],\n",
        "[999,999, 0,1,999,4,10],\n",
        "[999,999,999, 0,5,6,9],\n",
        "[999,999, 999,999,0,999,4],\n",
        "[999,999, 999,999,999,0,3],\n",
        "[999,999,999,999,999,999,0]\n",
        "]\n",
        "\n",
        "\n",
        "\n",
        "################################################################\n",
        "def Precios(TARIFAS):\n",
        "################################################################\n",
        "  #Total de Nodos\n",
        "  N = len(TARIFAS[0])\n",
        "\n",
        "  #Inicialización de la tabla de precios\n",
        "  PRECIOS = [ [9999]*N for i in [9999]*N]\n",
        "  RUTA = [ [\"\"]*N for i in [\"\"]*N]\n",
        "\n",
        "  for i in range(0,N-1):\n",
        "    RUTA[i][i] = i             #Para ir de i a i se \"pasa por i\"\n",
        "    PRECIOS[i][i] = 0          #Para ir de i a i se se paga 0\n",
        "    for j in range(i+1, N):\n",
        "      MIN = TARIFAS[i][j]\n",
        "      RUTA[i][j] = i\n",
        "\n",
        "      for k in range(i, j):\n",
        "        if PRECIOS[i][k] + TARIFAS[k][j] < MIN:\n",
        "            MIN = min(MIN, PRECIOS[i][k] + TARIFAS[k][j] )\n",
        "            RUTA[i][j] = k          #Anota que para ir de i a j hay que pasar por k\n",
        "        PRECIOS[i][j] = MIN\n",
        "\n",
        "  return PRECIOS,RUTA\n",
        "################################################################\n",
        "\n",
        "\n",
        "PRECIOS,RUTA = Precios(TARIFAS)\n",
        "#print(PRECIOS[0][6])\n",
        "\n",
        "print(\"PRECIOS\")\n",
        "for i in range(len(TARIFAS)):\n",
        "  print(PRECIOS[i])\n",
        "\n",
        "print(\"\\nRUTA\")\n",
        "for i in range(len(TARIFAS)):\n",
        "  print(RUTA[i])\n",
        "\n",
        "#Determinar la ruta con Recursividad\n",
        "def calcular_ruta(RUTA, desde, hasta):\n",
        "  if desde == hasta:\n",
        "    #print(\"Ir a :\" + str(desde))\n",
        "    return \"\"\n",
        "  else:\n",
        "    return str(calcular_ruta( RUTA, desde, RUTA[desde][hasta])) +  \\\n",
        "                ',' + \\\n",
        "                str(RUTA[desde][hasta] \\\n",
        "              )\n",
        "\n",
        "print(\"\\nLa ruta es:\")\n",
        "calcular_ruta(RUTA, 0,6)"
      ]
    },
    {
      "cell_type": "code",
      "execution_count": null,
      "metadata": {
        "id": "6HwSNgq08lYH",
        "outputId": "4a17b8e8-aab5-498a-8d62-ca710ac9f29e"
      },
      "outputs": [
        {
          "name": "stdout",
          "output_type": "stream",
          "text": [
            "2\n"
          ]
        }
      ],
      "source": [
        "print(repostaje_minimo(950, 400, [200, 375, 550, 750]))"
      ]
    },
    {
      "cell_type": "code",
      "execution_count": null,
      "metadata": {
        "id": "iBUqQ4AN8lYI"
      },
      "outputs": [],
      "source": [
        "def min_particion_palindromos(s):\n",
        "    n = len(s)\n",
        "    dp = [[False] * n for _ in range(n)]\n",
        "    cortes = [0] * n\n",
        "    for i in range(n):\n",
        "        cortes[i] = i\n",
        "        for j in range(i + 1):\n",
        "            if s[j] == s[i] and (i - j < 2 or dp[j+1][i-1]):\n",
        "                dp[j][i] = True\n",
        "                if j == 0:\n",
        "                    cortes[i] = 0\n",
        "                else:\n",
        "                    cortes[i] = min(cortes[i], cortes[j-1] + 1)\n",
        "    return cortes"
      ]
    },
    {
      "cell_type": "code",
      "execution_count": null,
      "metadata": {
        "id": "QdNgDjfy8lYI",
        "outputId": "8cc9b796-7c85-475e-b8f4-8108268f5be7"
      },
      "outputs": [
        {
          "name": "stdout",
          "output_type": "stream",
          "text": [
            "[0, 0, 0, 1]\n"
          ]
        }
      ],
      "source": [
        "print(min_particion_palindromos(\"aaab\"))  # 1 ([\"aa\", \"b\"])"
      ]
    },
    {
      "cell_type": "code",
      "execution_count": null,
      "metadata": {
        "id": "wQBy6fQC8lYI"
      },
      "outputs": [],
      "source": [
        "def deteccion_fraude(transacciones, umbral):\n",
        "    n = len(transacciones)\n",
        "    dp = [1] * n\n",
        "    for i in range(1, n):\n",
        "        if abs(transacciones[i] - transacciones[i-1]) > umbral:\n",
        "            dp[i] = dp[i-1] + 1\n",
        "        else:\n",
        "            dp[i] = 1\n",
        "    return max(dp) >= 3  # 3 transacciones sospechosas seguidas"
      ]
    },
    {
      "cell_type": "code",
      "execution_count": null,
      "metadata": {
        "id": "AprbIN2T8lYI",
        "outputId": "0fc4c4f8-a5dc-4efa-dbbb-1c007148bf10"
      },
      "outputs": [
        {
          "name": "stdout",
          "output_type": "stream",
          "text": [
            "True\n"
          ]
        }
      ],
      "source": [
        "transacciones = [100, 120, 5000, 110, 6000]  # Montos en USD\n",
        "print(deteccion_fraude(transacciones, 1000))  # True (5000 y 6000 son outliers)"
      ]
    },
    {
      "cell_type": "code",
      "execution_count": null,
      "metadata": {
        "id": "8xU7DO008lYI"
      },
      "outputs": [],
      "source": []
    },
    {
      "cell_type": "markdown",
      "metadata": {
        "id": "qpMrcja48lYI"
      },
      "source": [
        "***PRACTICA INDIVIDUAL:***"
      ]
    },
    {
      "cell_type": "markdown",
      "metadata": {
        "id": "KcCW5YWd8lYI"
      },
      "source": [
        "**PROBLEMA: ENCONTRAR LOS 2 PUNTOS MAS CERCANOS**"
      ]
    },
    {
      "cell_type": "code",
      "execution_count": null,
      "metadata": {
        "id": "NSOPXmR18lYI"
      },
      "outputs": [],
      "source": [
        "import random\n",
        "import math"
      ]
    },
    {
      "cell_type": "code",
      "execution_count": null,
      "metadata": {
        "id": "v0BtbxXc8lYN"
      },
      "outputs": [],
      "source": [
        "# Generar listas de puntos aleatorios\n",
        "LISTA_1D = [random.randrange(1, 10000) for x in range(1000)]\n",
        "LISTA_2D = [(random.randrange(1, 10000), random.randrange(1, 10000)) for x in range(1000)]"
      ]
    },
    {
      "cell_type": "markdown",
      "metadata": {
        "id": "iUJB0IFa8lYN"
      },
      "source": [
        "**1.SOLUCION POR ALGORITMO DE FUERZA BRUTA:**"
      ]
    },
    {
      "cell_type": "code",
      "execution_count": null,
      "metadata": {
        "id": "WgmuMwPi8lYN"
      },
      "outputs": [],
      "source": [
        "#Ordena la lista para que los números más cercanos queden juntos.\n",
        "#Recorre en O(n) calculando la diferencia mínima consecutiva.\n",
        "def puntos_mas_cercanos_1D(lista):\n",
        "    min_diff = float('inf')\n",
        "    par = None\n",
        "    n = len(lista)\n",
        "    for i in range(n):\n",
        "        for j in range(i+1, n):\n",
        "            diff = abs(lista[i] - lista[j])\n",
        "            if diff < min_diff:\n",
        "                min_diff = diff\n",
        "                par = (lista[i], lista[j])\n",
        "    return par, min_diff"
      ]
    },
    {
      "cell_type": "code",
      "execution_count": null,
      "metadata": {
        "id": "Yn6G-vSc8lYN",
        "outputId": "484f40b7-389e-4ca6-8acd-0be30d941dbf"
      },
      "outputs": [
        {
          "name": "stdout",
          "output_type": "stream",
          "text": [
            "LISTA_1D (fuerza bruta):\n",
            "Par más cercano: (6661, 6661) con diferencia 0\n"
          ]
        }
      ],
      "source": [
        "par_1D, diff_1D = puntos_mas_cercanos_1D(LISTA_1D)\n",
        "print(\"LISTA_1D (fuerza bruta):\")\n",
        "print(f\"Par más cercano: {par_1D} con diferencia {diff_1D}\")"
      ]
    },
    {
      "cell_type": "code",
      "execution_count": null,
      "metadata": {
        "id": "iwVSoJZ18lYN"
      },
      "outputs": [],
      "source": [
        "def distancia(p1, p2):\n",
        "    return math.hypot(p1[0] - p2[0], p1[1] - p2[1])"
      ]
    },
    {
      "cell_type": "code",
      "execution_count": null,
      "metadata": {
        "id": "osU0GRWk8lYN"
      },
      "outputs": [],
      "source": [
        "#Compara todos los pares posibles.\n",
        "#Calcula la distancia euclidiana con math.hypot.\n",
        "def puntos_mas_cercanos_2D(lista):\n",
        "    min_dist = float('inf')\n",
        "    par = None\n",
        "    n = len(lista)\n",
        "    for i in range(n):\n",
        "        for j in range(i+1, n):\n",
        "            d = distancia(lista[i], lista[j])\n",
        "            if d < min_dist:\n",
        "                min_dist = d\n",
        "                par = (lista[i], lista[j])\n",
        "    return par, min_dist"
      ]
    },
    {
      "cell_type": "code",
      "execution_count": null,
      "metadata": {
        "id": "8fXcdyq-8lYN",
        "outputId": "74275c5a-d5b5-4c5c-f36a-f2095ad6d611"
      },
      "outputs": [
        {
          "name": "stdout",
          "output_type": "stream",
          "text": [
            "LISTA_2D (fuerza bruta):\n",
            "Par más cercano: ((361, 63), (347, 59)) con distancia euclidiana 14.560219778561036\n"
          ]
        }
      ],
      "source": [
        "par_2D, dist_2D = puntos_mas_cercanos_2D(LISTA_2D)\n",
        "print(\"LISTA_2D (fuerza bruta):\")\n",
        "print(f\"Par más cercano: {par_2D} con distancia euclidiana {dist_2D}\")"
      ]
    },
    {
      "cell_type": "markdown",
      "metadata": {
        "id": "JkNd4fGN8lYN"
      },
      "source": [
        "***2.SOLUCION POR ALGORITMO DE DIVIDE Y VENCERAS:***"
      ]
    },
    {
      "cell_type": "code",
      "execution_count": null,
      "metadata": {
        "id": "QyIpR6bC8lYN"
      },
      "outputs": [],
      "source": [
        "# Función Divide y Vencerás para 1D\n",
        "def puntos_mas_cercanos_1D_divide_venceras(points):\n",
        "    if len(points) <= 1:\n",
        "        return None, float('inf')\n",
        "    if len(points) == 2:\n",
        "        return (points[0], points[1]), abs(points[0] - points[1])\n",
        "\n",
        "    points.sort()  # Ordenar los puntos\n",
        "    mid = len(points) // 2\n",
        "    left_points = points[:mid]\n",
        "    right_points = points[mid:]\n",
        "\n",
        "    left_closest, left_min_distance = puntos_mas_cercanos_1D_divide_venceras(left_points)\n",
        "    right_closest, right_min_distance = puntos_mas_cercanos_1D_divide_venceras(right_points)\n",
        "\n",
        "    min_distance = min(left_min_distance, right_min_distance)\n",
        "    closest_pair = left_closest if left_min_distance < right_min_distance else right_closest\n",
        "\n",
        "    # Verificar puntos cercanos en los bordes\n",
        "    border_points = [p for p in points if abs(p - points[mid]) < min_distance]\n",
        "    for i in range(len(border_points)):\n",
        "        for j in range(i + 1, len(border_points)):\n",
        "            distance = abs(border_points[i] - border_points[j])\n",
        "            if distance < min_distance:\n",
        "                min_distance = distance\n",
        "                closest_pair = (border_points[i], border_points[j])\n",
        "\n",
        "    return closest_pair, min_distance"
      ]
    },
    {
      "cell_type": "code",
      "execution_count": null,
      "metadata": {
        "id": "Mo0Plnww8lYN",
        "outputId": "960d8b38-e17b-4e8c-fe71-d08507a80790"
      },
      "outputs": [
        {
          "name": "stdout",
          "output_type": "stream",
          "text": [
            "LISTA_1D (Utilizando Divide y Venceras):\n",
            "Par más cercano: (9902, 9902) con diferencia 0\n"
          ]
        }
      ],
      "source": [
        "par_1D, diff_1D = puntos_mas_cercanos_1D_divide_venceras(LISTA_1D)\n",
        "print(\"LISTA_1D (Utilizando Divide y Venceras):\")\n",
        "print(f\"Par más cercano: {par_1D} con diferencia {diff_1D}\")"
      ]
    },
    {
      "cell_type": "code",
      "execution_count": null,
      "metadata": {
        "id": "pwaf4PjV8lYO"
      },
      "outputs": [],
      "source": [
        "# Función Divide y Vencerás para 2D\n",
        "def distancia_2D(point1, point2):\n",
        "    return ((point1[0] - point2[0])**2 + (point1[1] - point2[1])**2)**0.5\n",
        "\n",
        "def puntos_mas_cercanos_2D_divide_venceras(points):\n",
        "    if len(points) <= 1:\n",
        "        return None, float('inf')\n",
        "    if len(points) == 2:\n",
        "        return (points[0], points[1]), distance_2D(points[0], points[1])\n",
        "\n",
        "    points.sort(key=lambda point: point[0])  # Ordenar los puntos por coordenada x\n",
        "    mid = len(points) // 2\n",
        "    left_points = points[:mid]\n",
        "    right_points = points[mid:]\n",
        "\n",
        "    left_closest, left_min_distance = puntos_mas_cercanos_2D_divide_venceras(left_points)\n",
        "    right_closest, right_min_distance = puntos_mas_cercanos_2D_divide_venceras(right_points)\n",
        "\n",
        "    min_distance = min(left_min_distance, right_min_distance)\n",
        "    closest_pair = left_closest if left_min_distance < right_min_distance else right_closest\n",
        "\n",
        "    # Buscar puntos cercanos al borde\n",
        "    mid_x = points[mid][0]\n",
        "    border_points = [point for point in points if abs(point[0] - mid_x) < min_distance]\n",
        "    border_points.sort(key=lambda point: point[1])  # Ordenar por coordenada y\n",
        "\n",
        "    for i in range(len(border_points)):\n",
        "        for j in range(i + 1, min(i + 7, len(border_points))):  # Comparar con los próximos 6 puntos\n",
        "            distance = distance_2D(border_points[i], border_points[j])\n",
        "            if distance < min_distance:\n",
        "                min_distance = distance\n",
        "                closest_pair = (border_points[i], border_points[j])\n",
        "\n",
        "    return closest_pair, min_distance"
      ]
    },
    {
      "cell_type": "code",
      "execution_count": null,
      "metadata": {
        "id": "ZqhPpACg8lYO",
        "outputId": "61b41ad9-92b9-4541-e360-3febc1a357ae"
      },
      "outputs": [
        {
          "name": "stdout",
          "output_type": "stream",
          "text": [
            "LISTA_1D (Utilizando Divide y Venceras):\n",
            "Par más cercano: ((347, 59), (361, 63)) con diferencia 14.560219778561036\n"
          ]
        }
      ],
      "source": [
        "par_2D, diff_2D = puntos_mas_cercanos_2D_divide_venceras(LISTA_2D)\n",
        "print(\"LISTA_1D (Utilizando Divide y Venceras):\")\n",
        "print(f\"Par más cercano: {par_2D} con diferencia {diff_2D}\")"
      ]
    },
    {
      "cell_type": "code",
      "execution_count": null,
      "metadata": {
        "id": "iuCeYK4P8lYO"
      },
      "outputs": [],
      "source": []
    }
  ],
  "metadata": {
    "colab": {
      "provenance": [],
      "include_colab_link": true
    },
    "kernelspec": {
      "display_name": "Python [conda env:base] *",
      "language": "python",
      "name": "conda-base-py"
    },
    "language_info": {
      "codemirror_mode": {
        "name": "ipython",
        "version": 3
      },
      "file_extension": ".py",
      "mimetype": "text/x-python",
      "name": "python",
      "nbconvert_exporter": "python",
      "pygments_lexer": "ipython3",
      "version": "3.12.7"
    }
  },
  "nbformat": 4,
  "nbformat_minor": 0
}